{
  "cells": [
    {
      "cell_type": "code",
      "execution_count": null,
      "metadata": {
        "id": "fh6vgTWDR5aW"
      },
      "outputs": [],
      "source": [
        "import zipfile\n",
        "import os\n",
        "\n",
        "zip_path = '/content/drive/MyDrive/2025-1/data_yolo.zip'\n",
        "extract_path = 'data_yolo'\n",
        "\n",
        "with zipfile.ZipFile(zip_path, 'r') as zip_ref:\n",
        "    zip_ref.extractall(extract_path)\n",
        "\n",
        "print(f\"해제 완료: {extract_path}\")"
      ]
    },
    {
      "cell_type": "markdown",
      "metadata": {
        "id": "wd04DptEVuvb"
      },
      "source": [
        "### !! 데이터, .yaml 파일 경로 확인 필수 !! </br>\n",
        "### !! 그 후에 pip install ultralytics 터미널 입력 후, 아래 코드 실행 !!"
      ]
    },
    {
      "cell_type": "code",
      "execution_count": null,
      "metadata": {
        "colab": {
          "base_uri": "https://localhost:8080/"
        },
        "id": "RRskHmzHdWKK",
        "outputId": "e1c8751f-c7f1-45e7-c407-6a930be51155"
      },
      "outputs": [],
      "source": [
        "# 학습 코드\n",
        "\n",
        "from ultralytics import YOLO\n",
        "\n",
        "model = YOLO(\"yolov8m.pt\")  # yolov8n.pt, yolov8s.pt\n",
        "\n",
        "model.train(\n",
        "    data=\"/content/data_yolo/data.yaml\",\n",
        "    epochs=200,\n",
        "    imgsz=640,\n",
        "    batch=8\n",
        ")"
      ]
    },
    {
      "cell_type": "code",
      "execution_count": null,
      "metadata": {
        "colab": {
          "base_uri": "https://localhost:8080/"
        },
        "id": "eQngfrR5fIT7",
        "outputId": "92360852-f8b0-4496-b0df-9b690a58df10"
      },
      "outputs": [],
      "source": [
        "# 확인 코드\n",
        "\n",
        "model = YOLO('/content/runs/detect/train/weights/best.pt')\n",
        "model.predict(\n",
        "   source='/content/data_yolo/images/train/A01_B01_C04_D03_1122_I03_F10_194_2.jpg',\n",
        "   conf=0.01  # 신뢰도 값. 0.5 이상으로 두고 확인해볼 것.\n",
        ")"
      ]
    }
  ],
  "metadata": {
    "accelerator": "GPU",
    "colab": {
      "gpuType": "T4",
      "machine_shape": "hm",
      "provenance": []
    },
    "kernelspec": {
      "display_name": "Python 3",
      "name": "python3"
    },
    "language_info": {
      "name": "python"
    }
  },
  "nbformat": 4,
  "nbformat_minor": 0
}
